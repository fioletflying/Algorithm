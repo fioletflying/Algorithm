{
 "metadata": {
  "language_info": {
   "codemirror_mode": {
    "name": "ipython",
    "version": 3
   },
   "file_extension": ".py",
   "mimetype": "text/x-python",
   "name": "python",
   "nbconvert_exporter": "python",
   "pygments_lexer": "ipython3",
   "version": 3
  },
  "orig_nbformat": 2
 },
 "nbformat": 4,
 "nbformat_minor": 2,
 "cells": [
  {
   "cell_type": "code",
   "execution_count": null,
   "metadata": {},
   "outputs": [],
   "source": [
    "# 找出最小的硬币个数来实现某个数\n",
    "import sys\n",
    "\n",
    "def find_coins(m,n):\n",
    "    '''\n",
    "        m: 硬币的种类\n",
    "        n: 需要拼凑的数\n",
    "    '''\n",
    "    f = []\n",
    "    if n == 0:\n",
    "        f[0] = 0\n",
    "\n",
    "    for i in range(n):\n",
    "        max_int = sys.maxsize\n",
    "\n",
    "        for j in range(m):\n",
    "            if i -j <0\n",
    "                m[j] = max_int\n",
    "            else:\n",
    "                m[j] = f[i-j]\n",
    "\n",
    "        f[i] = min(m)\n",
    "    return f\n",
    "\n",
    "    "
   ]
  }
 ]
}